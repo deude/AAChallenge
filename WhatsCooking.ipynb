{
 "cells": [
  {
   "cell_type": "markdown",
   "metadata": {},
   "source": [
    "# What's Cooking Multinomial Classification Challenge\n",
    "![](images/cuisine.png)\n",
    "\n",
    "![](images/fr.png) ![](images/us.png) ![](images/kr.png) ![](images/it.png) ![](images/in.png) ![](images/jp.png) ![](images/ru.png) ![](images/th.png) ![](images/es.png) ![](images/gr.png) ![](images/mx.png) ![](images/jm.png) ![](images/cn.png) ![](images/vn.png)\n",
    "\n",
    "Categorize list of ingredients into cuisine types (20 labels).\n",
    "\n",
    "https://www.kaggle.com/c/whats-cooking\n"
   ]
  },
  {
   "cell_type": "code",
   "execution_count": 1,
   "metadata": {},
   "outputs": [],
   "source": [
    "# Main configuration parameters\n",
    "dryRun = False\n",
    "\n",
    "if dryRun:\n",
    "    nbPCAComponents = 2\n",
    "    n_folds = 2\n",
    "    early_stopping = 1\n",
    "    maxIterations = 1\n",
    "else:\n",
    "    nbPCAComponents = 300\n",
    "    n_folds = 4\n",
    "    early_stopping = 10\n",
    "    maxIterations = 200"
   ]
  },
  {
   "cell_type": "markdown",
   "metadata": {},
   "source": [
    "# Explore data\n",
    "<img src=\"images/explore.png\" width=\"100\">"
   ]
  },
  {
   "cell_type": "code",
   "execution_count": 2,
   "metadata": {},
   "outputs": [
    {
     "data": {
      "image/png": "[encoded data removed]",
      "text/plain": [
       "<Figure size 864x432 with 1 Axes>"
      ]
     },
     "metadata": {
      "needs_background": "light"
     },
     "output_type": "display_data"
    }
   ],
   "source": [
    "%matplotlib inline\n",
    "import pandas as pd\n",
    "pd.set_option('display.max_colwidth', 1000)\n",
    "rawTrain = pd.read_json('data/train.json')\n",
    "rawTrain = rawTrain.drop(['id'], axis=1)\n",
    "if dryRun:\n",
    "    rawTrain = rawTrain.sample(5000)\n",
    "    \n",
    "pd.DataFrame(pd.Series(rawTrain.cuisine).value_counts()).plot.bar(figsize=(12,6), title='Target Label Frequency Distribution')\n",
    "pass"
   ]
  },
  {
   "cell_type": "markdown",
   "metadata": {},
   "source": [
    "## Clean ingredient texts\n",
    "<img src=\"images/broom.png\" width=\"150\">"
   ]
  },
  {
   "cell_type": "code",
   "execution_count": 3,
   "metadata": {},
   "outputs": [
    {
     "name": "stdout",
     "output_type": "stream",
     "text": [
      "[nltk_data] Downloading package stopwords to\n",
      "[nltk_data]     C:\\Users\\I051796\\AppData\\Roaming\\nltk_data...\n",
      "[nltk_data]   Package stopwords is already up-to-date!\n",
      "[nltk_data] Downloading package punkt to\n",
      "[nltk_data]     C:\\Users\\I051796\\AppData\\Roaming\\nltk_data...\n",
      "[nltk_data]   Package punkt is already up-to-date!\n",
      "[nltk_data] Downloading package averaged_perceptron_tagger to\n",
      "[nltk_data]     C:\\Users\\I051796\\AppData\\Roaming\\nltk_data...\n",
      "[nltk_data]   Package averaged_perceptron_tagger is already up-to-\n",
      "[nltk_data]       date!\n"
     ]
    },
    {
     "data": {
      "text/plain": [
       "True"
      ]
     },
     "execution_count": 3,
     "metadata": {},
     "output_type": "execute_result"
    }
   ],
   "source": [
    "import nltk\n",
    "nltk.download('stopwords')\n",
    "nltk.download('punkt')\n",
    "nltk.download('averaged_perceptron_tagger')"
   ]
  },
  {
   "cell_type": "code",
   "execution_count": 4,
   "metadata": {},
   "outputs": [
    {
     "name": "stdout",
     "output_type": "stream",
     "text": [
      "Cleaning ingredient texts...\n",
      "\n",
      "Shaoxing wine -> shaoxing wine\n",
      "Italian parsley leaves -> italian parsley leaves\n",
      "sweet and sour sauce -> sweet sour sauce\n",
      "Johnsonville Andouille Dinner Sausage -> johnsonville andouille dinner sausage\n",
      "Oscar Mayer Deli Fresh Smoked Ham -> oscar mayer deli fresh smoked ham\n",
      "1% low-fat milk -> low-fat milk\n",
      "Gochujang base -> gochujang base\n",
      "Taiwanese bok choy -> taiwanese bok choy\n",
      "pumpkin purÃ©e -> pumpkin pure\n",
      "Sriracha -> sriracha\n",
      "....\n",
      "Wall time: 53.5 s\n"
     ]
    }
   ],
   "source": [
    "# data cleansing\n",
    "import re\n",
    "from nltk.tokenize import word_tokenize\n",
    "from nltk.corpus import stopwords \n",
    "\n",
    "stopWords = set(stopwords.words('english'))\n",
    "\n",
    "# JJ: adjective\n",
    "stopTypes = ['JJ', 'POS','UH','PRP' ,'DT', 'CC']\n",
    "\n",
    "showDiff = True\n",
    "showStopFreqWords = False\n",
    "showStopTypeWords = True\n",
    "showCount = 0\n",
    "maxShowCount = 10\n",
    "\n",
    "\n",
    "def cleanIngredients(ingredients):\n",
    "    cleanIngredients = list()\n",
    "    for ingredient in ingredients:\n",
    "        cleanIngredient = ingredient.lower()\n",
    "        # remove special characters (only alphabets are kept)\n",
    "        cleanIngredient = re.sub(r\"[^a-zA-Z\\sçàéè\\-î]+\", '', cleanIngredient)\n",
    "        # remove usless spaces\n",
    "        cleanIngredient = re.sub(r\"\\s{2,}\", ' ', cleanIngredient)\n",
    "        cleanIngredient = re.sub(r\"^\\s\", '', cleanIngredient)\n",
    "        cleanIngredient = re.sub(r\"\\s$\", '', cleanIngredient)\n",
    "        # remove usual stop words\n",
    "        words = word_tokenize(cleanIngredient)\n",
    "        stopFreqWords = [word for word in words if word not in stopWords]\n",
    "        if showStopFreqWords and len(stopFreqWords) != len(words):\n",
    "            print(\"{} -> {}\".format(words, stopFreqWords))\n",
    "        \n",
    "        # remove adjective (qualification) => currently disable\n",
    "        if False:\n",
    "            words = nltk.pos_tag(stopFreqWords)\n",
    "            stopTypeWords = [w for w, wtype in words if wtype not in stopTypes]            \n",
    "            if showStopTypeWords and len(stopTypeWords) != len(stopFreqWords):\n",
    "                print(\"{} -> {}\".format(stopFreqWords, stopTypeWords)) \n",
    "        else:\n",
    "            stopTypeWords = stopFreqWords\n",
    "            \n",
    "        cleanIngredient = \" \".join(stopTypeWords)\n",
    "        # final final difference if any\n",
    "        global showCount\n",
    "        if showDiff and showCount < maxShowCount and cleanIngredient != ingredient:\n",
    "            showCount = showCount + 1\n",
    "            print(\"{} -> {}\".format(ingredient, cleanIngredient))\n",
    "            if showCount == maxShowCount:\n",
    "                print(\"....\")\n",
    "        \n",
    "        cleanIngredients.append(cleanIngredient)\n",
    "    return cleanIngredients  \n",
    "\n",
    "print(\"Cleaning ingredient texts...\\n\")\n",
    "%time rawTrain['cleanIngredients'] = rawTrain.ingredients.map(lambda x: cleanIngredients(x))"
   ]
  },
  {
   "cell_type": "code",
   "execution_count": 5,
   "metadata": {},
   "outputs": [],
   "source": [
    "# switch to clean ingredients\n",
    "rawTrain.ingredients = rawTrain.cleanIngredients\n",
    "rawTrain = rawTrain.drop(columns=['cleanIngredients'])"
   ]
  },
  {
   "cell_type": "markdown",
   "metadata": {},
   "source": [
    "## Examine ingredients\n",
    "<img src=\"images/food2.png\" width=\"150\">"
   ]
  },
  {
   "cell_type": "code",
   "execution_count": 6,
   "metadata": {},
   "outputs": [
    {
     "name": "stdout",
     "output_type": "stream",
     "text": [
      "number of distinct ingredients = 6684\n"
     ]
    },
    {
     "data": {
      "text/html": [
       "<div>\n",
       "<style scoped>\n",
       "    .dataframe tbody tr th:only-of-type {\n",
       "        vertical-align: middle;\n",
       "    }\n",
       "\n",
       "    .dataframe tbody tr th {\n",
       "        vertical-align: top;\n",
       "    }\n",
       "\n",
       "    .dataframe thead th {\n",
       "        text-align: right;\n",
       "    }\n",
       "</style>\n",
       "<table border=\"1\" class=\"dataframe\">\n",
       "  <thead>\n",
       "    <tr style=\"text-align: right;\">\n",
       "      <th></th>\n",
       "      <th>ingredient</th>\n",
       "    </tr>\n",
       "  </thead>\n",
       "  <tbody>\n",
       "    <tr>\n",
       "      <th>338</th>\n",
       "      <td>hot chili paste</td>\n",
       "    </tr>\n",
       "    <tr>\n",
       "      <th>5926</th>\n",
       "      <td>cooking apples</td>\n",
       "    </tr>\n",
       "    <tr>\n",
       "      <th>4680</th>\n",
       "      <td>mazola canola oil</td>\n",
       "    </tr>\n",
       "    <tr>\n",
       "      <th>4284</th>\n",
       "      <td>peppadews</td>\n",
       "    </tr>\n",
       "    <tr>\n",
       "      <th>3300</th>\n",
       "      <td>nonfat greek yogurt</td>\n",
       "    </tr>\n",
       "  </tbody>\n",
       "</table>\n",
       "</div>"
      ],
      "text/plain": [
       "               ingredient\n",
       "338       hot chili paste\n",
       "5926       cooking apples\n",
       "4680    mazola canola oil\n",
       "4284            peppadews\n",
       "3300  nonfat greek yogurt"
      ]
     },
     "execution_count": 6,
     "metadata": {},
     "output_type": "execute_result"
    }
   ],
   "source": [
    "# build distinct ingredient names from training\n",
    "uniqueTrainIngredients = set()\n",
    "for i,v in rawTrain.ingredients.iteritems():\n",
    "    uniqueTrainIngredients.update(v)\n",
    "uniqueTrainIngredients = list(uniqueTrainIngredients)\n",
    "\n",
    "print(\"number of distinct ingredients = {}\".format(len(uniqueTrainIngredients)))\n",
    "pd.Series(uniqueTrainIngredients).to_csv(\"ingredients.csv\", index=None)\n",
    "pd.DataFrame(uniqueTrainIngredients, columns=['ingredient']).sample(5)"
   ]
  },
  {
   "cell_type": "code",
   "execution_count": 7,
   "metadata": {},
   "outputs": [
    {
     "data": {
      "text/html": [
       "<div>\n",
       "<style scoped>\n",
       "    .dataframe tbody tr th:only-of-type {\n",
       "        vertical-align: middle;\n",
       "    }\n",
       "\n",
       "    .dataframe tbody tr th {\n",
       "        vertical-align: top;\n",
       "    }\n",
       "\n",
       "    .dataframe thead th {\n",
       "        text-align: right;\n",
       "    }\n",
       "</style>\n",
       "<table border=\"1\" class=\"dataframe\">\n",
       "  <thead>\n",
       "    <tr style=\"text-align: right;\">\n",
       "      <th></th>\n",
       "      <th>count</th>\n",
       "    </tr>\n",
       "    <tr>\n",
       "      <th>word</th>\n",
       "      <th></th>\n",
       "    </tr>\n",
       "  </thead>\n",
       "  <tbody>\n",
       "    <tr>\n",
       "      <th>cheese</th>\n",
       "      <td>200</td>\n",
       "    </tr>\n",
       "    <tr>\n",
       "      <th>sauce</th>\n",
       "      <td>196</td>\n",
       "    </tr>\n",
       "    <tr>\n",
       "      <th>chicken</th>\n",
       "      <td>190</td>\n",
       "    </tr>\n",
       "    <tr>\n",
       "      <th>mix</th>\n",
       "      <td>121</td>\n",
       "    </tr>\n",
       "    <tr>\n",
       "      <th>cream</th>\n",
       "      <td>115</td>\n",
       "    </tr>\n",
       "    <tr>\n",
       "      <th>rice</th>\n",
       "      <td>109</td>\n",
       "    </tr>\n",
       "    <tr>\n",
       "      <th>sodium</th>\n",
       "      <td>107</td>\n",
       "    </tr>\n",
       "    <tr>\n",
       "      <th>fresh</th>\n",
       "      <td>100</td>\n",
       "    </tr>\n",
       "    <tr>\n",
       "      <th>dried</th>\n",
       "      <td>97</td>\n",
       "    </tr>\n",
       "    <tr>\n",
       "      <th>fat</th>\n",
       "      <td>95</td>\n",
       "    </tr>\n",
       "  </tbody>\n",
       "</table>\n",
       "</div>"
      ],
      "text/plain": [
       "         count\n",
       "word          \n",
       "cheese     200\n",
       "sauce      196\n",
       "chicken    190\n",
       "mix        121\n",
       "cream      115\n",
       "rice       109\n",
       "sodium     107\n",
       "fresh      100\n",
       "dried       97\n",
       "fat         95"
      ]
     },
     "execution_count": 7,
     "metadata": {},
     "output_type": "execute_result"
    }
   ],
   "source": [
    "# build distinct words from ingredient names\n",
    "trainVocabularies = list()\n",
    "for ingredient in uniqueTrainIngredients:\n",
    "    trainVocabularies.append(ingredient.split(\" \"))\n",
    "# flatten list of lists\n",
    "trainVocabularies = pd.DataFrame([item for sublist in trainVocabularies for item in sublist], columns=['word'])\n",
    "trainVocabularies['count'] = 1\n",
    "hist = trainVocabularies.groupby(by=['word']).count()\n",
    "hist.sort_values('count', ascending=False).head(10)"
   ]
  },
  {
   "cell_type": "markdown",
   "metadata": {},
   "source": [
    "# Prepare data\n",
    "<img src=\"images/pan.png\" width=\"150\">"
   ]
  },
  {
   "cell_type": "code",
   "execution_count": 8,
   "metadata": {},
   "outputs": [
    {
     "name": "stdout",
     "output_type": "stream",
     "text": [
      "Vectorizing dataset...\n",
      "\n"
     ]
    },
    {
     "name": "stderr",
     "output_type": "stream",
     "text": [
      "100%|██████████| 6684/6684 [04:22<00:00, 25.47it/s]\n"
     ]
    }
   ],
   "source": [
    "rawTrain[\"set\"] = rawTrain.ingredients.apply(lambda x: set(x))\n",
    "print(\"Vectorizing dataset...\\n\")\n",
    "\n",
    "from tqdm import tqdm\n",
    "for ingr in tqdm(uniqueTrainIngredients):\n",
    "    rawTrain[ingr] = rawTrain.set.apply(lambda x: 1 if ingr in x else 0)"
   ]
  },
  {
   "cell_type": "code",
   "execution_count": 9,
   "metadata": {},
   "outputs": [],
   "source": [
    "#rawTrain.to_csv('/Users/i051796/projects/Challenge/vector.csv')\n",
    "#rawTrain = pd.read_csv('/Users/i051796/projects/Challenge/vector.csv')"
   ]
  },
  {
   "cell_type": "code",
   "execution_count": 10,
   "metadata": {},
   "outputs": [
    {
     "name": "stdout",
     "output_type": "stream",
     "text": [
      "Applying TF-DIF transform...\n",
      "\n",
      "Wall time: 24.5 s\n"
     ]
    }
   ],
   "source": [
    "# apply TF-IDF\n",
    "from sklearn.feature_extraction.text import TfidfTransformer\n",
    "features = rawTrain.drop(columns=['cuisine', 'set','ingredients'])\n",
    "tfIdf = TfidfTransformer()\n",
    "print(\"Applying TF-DIF transform...\\n\")\n",
    "%time rescaledFeatures = tfIdf.fit_transform(features)\n",
    "\n",
    "rescaledFeatures= pd.DataFrame(rescaledFeatures.toarray())"
   ]
  },
  {
   "cell_type": "code",
   "execution_count": 11,
   "metadata": {},
   "outputs": [
    {
     "name": "stdout",
     "output_type": "stream",
     "text": [
      "Applying PCA transform from 6684 to 300 dimension...\n",
      "\n",
      "Wall time: 30.1 s\n"
     ]
    }
   ],
   "source": [
    "# apply a PCA\n",
    "from sklearn.decomposition import PCA\n",
    "pca = PCA(n_components=nbPCAComponents)\n",
    "print(\"Applying PCA transform from {} to {} dimension...\\n\".format(len(uniqueTrainIngredients), nbPCAComponents))\n",
    "%time pcaFeatures = pca.fit_transform(rescaledFeatures)"
   ]
  },
  {
   "cell_type": "code",
   "execution_count": 12,
   "metadata": {},
   "outputs": [
    {
     "data": {
      "text/plain": [
       "<matplotlib.axes._subplots.AxesSubplot at 0x29d08ba1048>"
      ]
     },
     "execution_count": 12,
     "metadata": {},
     "output_type": "execute_result"
    },
    {
     "data": {
      "image/png": "[encoded data removed]",
      "text/plain": [
       "<Figure size 432x288 with 1 Axes>"
      ]
     },
     "metadata": {
      "needs_background": "light"
     },
     "output_type": "display_data"
    }
   ],
   "source": [
    "pd.DataFrame(pca.explained_variance_ratio_.cumsum()).plot(title='Cumulative sum of the captured variances')"
   ]
  },
  {
   "cell_type": "code",
   "execution_count": 13,
   "metadata": {},
   "outputs": [],
   "source": [
    "rawTrain['countIngr'] = rawTrain.ingredients.map(lambda x : len(x))"
   ]
  },
  {
   "cell_type": "code",
   "execution_count": 14,
   "metadata": {},
   "outputs": [
    {
     "data": {
      "text/plain": [
       "<matplotlib.axes._subplots.AxesSubplot at 0x29d08b2f898>"
      ]
     },
     "execution_count": 14,
     "metadata": {},
     "output_type": "execute_result"
    },
    {
     "data": {
      "image/png": "[encoded data removed]",
      "text/plain": [
       "<Figure size 720x360 with 1 Axes>"
      ]
     },
     "metadata": {
      "needs_background": "light"
     },
     "output_type": "display_data"
    }
   ],
   "source": [
    "rawTrain[['countIngr','cuisine']].groupby(by='cuisine').std().plot(title=\"Average ingredient count per cuisine\", figsize=(10,5), kind='bar')"
   ]
  },
  {
   "cell_type": "code",
   "execution_count": 15,
   "metadata": {},
   "outputs": [],
   "source": [
    "rawTrain['weight'] = rawTrain.cuisine.map(lambda x: 2. if x == 'italian' else 1.)\n",
    "#pcaFeatures = pcaFeatures.drop(columns=['weight'])"
   ]
  },
  {
   "cell_type": "markdown",
   "metadata": {},
   "source": [
    "# Learn from data\n",
    "<div style=\"vertical-align:middle\">\n",
    "    <img src=\"images/learn.png\" width=\"150\" >\n",
    "    <img src=\"images/xgb.png\" width=\"200\">\n",
    "</divs>"
   ]
  },
  {
   "cell_type": "code",
   "execution_count": 16,
   "metadata": {},
   "outputs": [],
   "source": [
    "import xgboost as xgb\n",
    "\n",
    "pcaFeatures = pd.DataFrame(pcaFeatures)\n",
    "\n",
    "from sklearn import preprocessing\n",
    "labelEncoder = preprocessing.LabelEncoder()\n",
    "y = labelEncoder.fit_transform(rawTrain.cuisine)"
   ]
  },
  {
   "cell_type": "markdown",
   "metadata": {},
   "source": [
    "## Optimize parameters\n",
    "<img src=\"images/optim.png\" width=\"100\">"
   ]
  },
  {
   "cell_type": "code",
   "execution_count": null,
   "metadata": {},
   "outputs": [],
   "source": [
    "import xgboost as xgb\n",
    "from sklearn.model_selection import RandomizedSearchCV\n",
    "from sklearn.model_selection import StratifiedKFold\n",
    "\n",
    "import warnings\n",
    "warnings.filterwarnings('ignore')\n",
    "\n",
    "print(\"Optimizing XGBoost parameters...\\n\")\n",
    "\n",
    "classifier = xgb.XGBClassifier(\n",
    "    early_stopping_rounds = early_stopping,\n",
    "    n_estimators= maxIterations,\n",
    "    nthread=6,\n",
    "    objective= 'multi:softprob',\n",
    "    silent=False\n",
    ")\n",
    "\n",
    "params = {\n",
    "    'learning_rate': [.02,.05,.1],\n",
    "    'colsample_bytree': [0.6,1.0],\n",
    "    'max_depth': [3,5,8]\n",
    "}\n",
    "\n",
    "skf = StratifiedKFold(\n",
    "    n_splits=n_folds,\n",
    "    shuffle = True,\n",
    "    random_state = 1960)\n",
    "\n",
    "randomSearch = RandomizedSearchCV(\n",
    "    classifier,\n",
    "    param_distributions=params,\n",
    "    n_iter=8,\n",
    "    scoring='accuracy',\n",
    "    n_jobs=5,\n",
    "    cv=skf.split(pcaFeatures,y),\n",
    "    verbose=2,\n",
    "    random_state=1960\n",
    ")\n",
    "\n",
    "%time randomSearch.fit(pcaFeatures, y)\n",
    "print(\"\\nBest average accuracy on validation fold = {}\\n\".format(max(randomSearch.cv_results_['mean_test_score'])))"
   ]
  },
  {
   "cell_type": "markdown",
   "metadata": {},
   "source": [
    "## Build final model\n",
    "<img src=\"images/build.png\" width=\"120\">"
   ]
  },
  {
   "cell_type": "code",
   "execution_count": null,
   "metadata": {},
   "outputs": [],
   "source": [
    "import xgboost as xgb\n",
    "\n",
    "print(\"Fitting the final XGBoost model...\\n\")\n",
    "\n",
    "classifier = xgb.XGBClassifier(\n",
    "    learning_rate= randomSearch.best_params_['learning_rate'],\n",
    "    colsample_bytree= randomSearch.best_params_['colsample_bytree'],\n",
    "    max_depth= randomSearch.best_params_['max_depth'],\n",
    "    early_stopping_rounds = early_stopping,\n",
    "    n_estimators= maxIterations,\n",
    "    nthread=10,\n",
    "    objective= 'multi:softprob',\n",
    "    silent=False\n",
    ")\n",
    "\n",
    "#classifier.fit(pcaFeatures, y=y, verbose=True, sample_weight = rawTrain['weight'].tolist())\n",
    "%time classifier.fit(pcaFeatures, y=y, verbose=True)\n",
    "classifier"
   ]
  },
  {
   "cell_type": "code",
   "execution_count": 19,
   "metadata": {},
   "outputs": [],
   "source": [
    "import pickle\n",
    "#pickle.dump(classifier, open(\"xgboost_model.dat\", \"wb\"))\n",
    "#classifier = pickle.load(open(\"xgboost_model.dat\", \"rb\"))"
   ]
  },
  {
   "cell_type": "markdown",
   "metadata": {},
   "source": [
    "# Measure performance\n",
    "<img src=\"images/perf.png\" width=\"170\">"
   ]
  },
  {
   "cell_type": "code",
   "execution_count": 20,
   "metadata": {},
   "outputs": [
    {
     "name": "stdout",
     "output_type": "stream",
     "text": [
      "Applying the model to the training dataset...\n",
      "\n",
      "Wall time: 3.71 s\n"
     ]
    }
   ],
   "source": [
    "print(\"Applying the model to the training dataset...\\n\")\n",
    "%time yDecision = classifier.predict(pcaFeatures)"
   ]
  },
  {
   "cell_type": "code",
   "execution_count": 21,
   "metadata": {},
   "outputs": [],
   "source": [
    "import matplotlib.pyplot as plt\n",
    "import numpy as np\n",
    "import itertools\n",
    "\n",
    "def plot_confusion_matrix(cm, classes,\n",
    "                          normalize=False,\n",
    "                          title='Confusion matrix',\n",
    "                          cmap=plt.cm.Blues):\n",
    "    \"\"\"\n",
    "    This function prints and plots the confusion matrix.\n",
    "    \"\"\"\n",
    "    if normalize:\n",
    "        cm = cm.astype('float') / cm.sum(axis=1)[:, np.newaxis]\n",
    "        print(\"Normalized confusion matrix\")\n",
    "    else:\n",
    "        print('Confusion matrix, without normalization')\n",
    "        \n",
    "    plt.imshow(cm, interpolation='nearest', cmap=cmap)\n",
    "    plt.title(title)\n",
    "    plt.colorbar()\n",
    "    tick_marks = np.arange(len(classes))\n",
    "    plt.xticks(tick_marks, classes, rotation=45)\n",
    "    plt.yticks(tick_marks, classes)\n",
    "\n",
    "    fmt = '.2f' if normalize else 'd'\n",
    "    thresh = cm.max() / 2.\n",
    "    for i, j in itertools.product(range(cm.shape[0]), range(cm.shape[1])):\n",
    "        plt.text(j, i, format(cm[i, j], fmt),\n",
    "                 horizontalalignment=\"center\",\n",
    "                 color=\"white\" if cm[i, j] > thresh else \"black\")\n",
    "\n",
    "    plt.tight_layout()\n",
    "    plt.ylabel('True label')\n",
    "\n",
    "    plt.xlabel('Predicted label')"
   ]
  },
  {
   "cell_type": "code",
   "execution_count": 22,
   "metadata": {},
   "outputs": [
    {
     "name": "stdout",
     "output_type": "stream",
     "text": [
      "              precision    recall  f1-score   support\n",
      "\n",
      "           0       1.00      1.00      1.00       467\n",
      "           1       1.00      1.00      1.00       804\n",
      "           2       1.00      1.00      1.00      1546\n",
      "           3       1.00      1.00      1.00      2673\n",
      "           4       1.00      1.00      1.00       755\n",
      "           5       1.00      1.00      1.00      2646\n",
      "           6       1.00      1.00      1.00      1175\n",
      "           7       1.00      1.00      1.00      3003\n",
      "           8       1.00      1.00      1.00       667\n",
      "           9       1.00      1.00      1.00      7838\n",
      "          10       1.00      1.00      1.00       526\n",
      "          11       1.00      1.00      1.00      1423\n",
      "          12       1.00      1.00      1.00       830\n",
      "          13       1.00      1.00      1.00      6438\n",
      "          14       1.00      1.00      1.00       821\n",
      "          15       1.00      1.00      1.00       489\n",
      "          16       1.00      1.00      1.00      4320\n",
      "          17       1.00      1.00      1.00       989\n",
      "          18       1.00      1.00      1.00      1539\n",
      "          19       1.00      1.00      1.00       825\n",
      "\n",
      "   micro avg       1.00      1.00      1.00     39774\n",
      "   macro avg       1.00      1.00      1.00     39774\n",
      "weighted avg       1.00      1.00      1.00     39774\n",
      "\n",
      "Normalized confusion matrix\n"
     ]
    },
    {
     "data": {
      "image/png": "[encoded data removed]",
      "text/plain": [
       "<Figure size 1440x1440 with 2 Axes>"
      ]
     },
     "metadata": {
      "needs_background": "light"
     },
     "output_type": "display_data"
    }
   ],
   "source": [
    "from sklearn.metrics import confusion_matrix\n",
    "import sklearn\n",
    "\n",
    "cnf_matrix = confusion_matrix(y.tolist(), yDecision.tolist())\n",
    "\n",
    "print(sklearn.metrics.classification_report(y, yDecision))\n",
    "\n",
    "plt.figure(figsize=(20,20))\n",
    "\n",
    "plot_confusion_matrix(cnf_matrix, normalize=True, classes = labelEncoder.classes_)\n",
    "\n",
    "plt.show()\n"
   ]
  },
  {
   "cell_type": "code",
   "execution_count": 23,
   "metadata": {},
   "outputs": [],
   "source": [
    "import numpy as np\n",
    "\n",
    "# define the pipeline to prepare the data for simulate/apply\n",
    "# return a data frame with a single row\n",
    "def prepareDataForApply(ingredientSet):\n",
    "    # vectorize\n",
    "    row = list()\n",
    "    for ingr in uniqueTrainIngredients:\n",
    "        row.append(1if ingr in ingredientSet else 0)\n",
    "    result = pd.DataFrame([row], columns=uniqueTrainIngredients) \n",
    "    # apply tf-idf\n",
    "    result = tfIdf.transform(result)\n",
    "    # apply pca\n",
    "    result = pca.transform(result.toarray())\n",
    "    result = pd.DataFrame(result)\n",
    "    #result.rename(axis='columns', inplace=True, mapper=lambda x: \"f\" + str(x))\n",
    "    return result"
   ]
  },
  {
   "cell_type": "markdown",
   "metadata": {},
   "source": [
    "# Open Your Fridge\n",
    "\n",
    "<img src=\"images/fridge.png\" width=\"150\">\n",
    "\n",
    "Tell me what you have in your fridge, i will tell you if the mixture is eatable !"
   ]
  },
  {
   "cell_type": "code",
   "execution_count": 24,
   "metadata": {},
   "outputs": [
    {
     "data": {
      "application/vnd.jupyter.widget-view+json": {
       "model_id": "cab3aabf738a40e2be6ade290a98e1f2",
       "version_major": 2,
       "version_minor": 0
      },
      "text/plain": [
       "Dropdown(description='ingredient 1', options=('', 'aai', 'aai powder', 'abalone', 'abbamele', 'absinthe', 'abu…"
      ]
     },
     "metadata": {},
     "output_type": "display_data"
    },
    {
     "data": {
      "application/vnd.jupyter.widget-view+json": {
       "model_id": "d95283e24b3e4c38ad14b4209e873a06",
       "version_major": 2,
       "version_minor": 0
      },
      "text/plain": [
       "Dropdown(description='ingredient 2', options=('', 'aai', 'aai powder', 'abalone', 'abbamele', 'absinthe', 'abu…"
      ]
     },
     "metadata": {},
     "output_type": "display_data"
    },
    {
     "data": {
      "application/vnd.jupyter.widget-view+json": {
       "model_id": "eb63f0923cd9432d9758a2ed4895d211",
       "version_major": 2,
       "version_minor": 0
      },
      "text/plain": [
       "Dropdown(description='ingredient 3', options=('', 'aai', 'aai powder', 'abalone', 'abbamele', 'absinthe', 'abu…"
      ]
     },
     "metadata": {},
     "output_type": "display_data"
    },
    {
     "data": {
      "application/vnd.jupyter.widget-view+json": {
       "model_id": "8d1b28e9956d485ba8f4161e97caa8b6",
       "version_major": 2,
       "version_minor": 0
      },
      "text/plain": [
       "Dropdown(description='ingredient 4', options=('', 'aai', 'aai powder', 'abalone', 'abbamele', 'absinthe', 'abu…"
      ]
     },
     "metadata": {},
     "output_type": "display_data"
    },
    {
     "data": {
      "application/vnd.jupyter.widget-view+json": {
       "model_id": "3012cd1571db4cf4b5579ba2526f7b74",
       "version_major": 2,
       "version_minor": 0
      },
      "text/plain": [
       "HBox(children=(Image(value=b'\\x89PNG\\r\\n\\x1a\\n\\x00\\x00\\x00\\rIHDR\\x00\\x00\\x01\\x10\\x00\\x00\\x01 \\x08\\x06\\x00\\x00\\…"
      ]
     },
     "metadata": {},
     "output_type": "display_data"
    },
    {
     "data": {
      "application/vnd.jupyter.widget-view+json": {
       "model_id": "915afd0b129f4d069f4f75ae727fd6d2",
       "version_major": 2,
       "version_minor": 0
      },
      "text/plain": [
       "HBox(children=(Image(value=b'\\x89PNG\\r\\n\\x1a\\n\\x00\\x00\\x00\\rIHDR\\x00\\x00\\x00\\x1e\\x00\\x00\\x00\\x14\\x08\\x03\\x00\\x…"
      ]
     },
     "metadata": {},
     "output_type": "display_data"
    }
   ],
   "source": [
    "import ipywidgets as widgets\n",
    "from IPython.display import display\n",
    "from ipywidgets import interact, interactive, fixed, interact_manual, HBox, IntSlider\n",
    "\n",
    "sortedUniqueTrainIngredients = sorted(uniqueTrainIngredients)\n",
    "ingrWidget1 = widgets.Dropdown(\n",
    "    options=sortedUniqueTrainIngredients,\n",
    "    description='ingredient 1',\n",
    "    disabled=False\n",
    ")\n",
    "\n",
    "ingrWidget2 = widgets.Dropdown(\n",
    "    options=sortedUniqueTrainIngredients,\n",
    "    description='ingredient 2',\n",
    "    disabled=False\n",
    ")\n",
    "\n",
    "ingrWidget3 = widgets.Dropdown(\n",
    "    options=sortedUniqueTrainIngredients,\n",
    "    description='ingredient 3',\n",
    "    disabled=False\n",
    ")\n",
    "\n",
    "ingrWidget4 = widgets.Dropdown(\n",
    "    options=sortedUniqueTrainIngredients,\n",
    "    description='ingredient 4',\n",
    "    disabled=False\n",
    ")\n",
    "\n",
    "button = widgets.Button(\n",
    "    description='Indigestion?',\n",
    "    disabled=False,\n",
    "    tooltip='Estimate Indigestion Level'\n",
    ")\n",
    "\n",
    "res = widgets.HTML(\n",
    "    value=\"Hello <b>World</b>\",\n",
    ")\n",
    "\n",
    "file = open(\"images/danger.png\", \"rb\")\n",
    "image = file.read()\n",
    "\n",
    "danger_image = widgets.Image(\n",
    "    value=image,\n",
    "    format='png',\n",
    "    width=50,\n",
    "    height=50\n",
    ")\n",
    "\n",
    "file = open(\"images/safe.png\", \"rb\")\n",
    "image = file.read()\n",
    "safe_image = widgets.Image(\n",
    "    value=image,\n",
    "    format='png',\n",
    "    width=50,\n",
    "    height=50\n",
    ")\n",
    "\n",
    "countryImages = dict()\n",
    "countryFileNames = {\n",
    "'brazilian':'br',\n",
    "'british':'gb',\n",
    "'cajun_creole':'us',\n",
    "'chinese':'cn',\n",
    "'filipino': 'ph',\n",
    "'french':'fr',\n",
    "'greek':'gr',\n",
    "'indian':'in',\n",
    "'irish':'ie',\n",
    "'italian':'it',\n",
    "'jamaican':'jm',\n",
    "'japanese':'jp',\n",
    "'korean':'kr',\n",
    "'mexican':'mx',\n",
    "'moroccan':'ma',\n",
    "'russian': 'ru',\n",
    "'southern_us': 'us',\n",
    "'spanish' : 'es',\n",
    "'thai':'th',\n",
    "'vietnamese':'vn'\n",
    "}\n",
    "\n",
    "for country in labelEncoder.classes_:\n",
    "    file = open(\"images/\" + countryFileNames[country] + \".png\", \"rb\")\n",
    "    countryImages[country] = file.read()\n",
    "\n",
    "country_image = widgets.Image(\n",
    "    value=countryImages['vietnamese'],\n",
    "    format='png'\n",
    ")\n",
    "\n",
    "country_label = widgets.Label(\n",
    ")\n",
    "\n",
    "slider = IntSlider(\n",
    "    value=0,\n",
    "    min=0,\n",
    "    max=100,\n",
    "    step=1,    \n",
    "    disable=True)\n",
    "\n",
    "hbox = HBox([danger_image, slider, safe_image])\n",
    "hbox2 = HBox([country_image, country_label])\n",
    "\n",
    "def onChange(change):\n",
    "    try:\n",
    "        selectedIngredients = set()\n",
    "        if len(ingrWidget1.value) > 0:\n",
    "            selectedIngredients.add(ingrWidget1.value)\n",
    "        if len(ingrWidget2.value) > 0:\n",
    "            selectedIngredients.add(ingrWidget2.value)\n",
    "        if len(ingrWidget3.value) > 0:\n",
    "            selectedIngredients.add(ingrWidget3.value)\n",
    "        if len(ingrWidget4.value) > 0:\n",
    "            selectedIngredients.add(ingrWidget4.value)\n",
    "\n",
    "        testData = prepareDataForApply(selectedIngredients)\n",
    "\n",
    "        probas = classifier.predict_proba(testData)\n",
    "        indexMax = np.argmax(probas)\n",
    "        maxProba=probas.max()\n",
    "        mostProbableCountry = labelEncoder.inverse_transform([indexMax])[0] \n",
    "\n",
    "        # update widgets\n",
    "        country_label.value = mostProbableCountry\n",
    "        country_image.value = countryImages[mostProbableCountry]\n",
    "        slider.value = np.rint(maxProba * 100.)\n",
    "    except Exception as es:\n",
    "        country_label.value = str(e)\n",
    "    \n",
    "    return\n",
    "\n",
    "ingrWidget1.observe(onChange)\n",
    "ingrWidget2.observe(onChange)\n",
    "ingrWidget3.observe(onChange)\n",
    "ingrWidget4.observe(onChange)\n",
    "\n",
    "display(ingrWidget1)\n",
    "display(ingrWidget2)\n",
    "display(ingrWidget3)\n",
    "display(ingrWidget4)\n",
    "\n",
    "display(hbox)\n",
    "display(hbox2)"
   ]
  }
 ],
 "metadata": {
  "kernelspec": {
   "display_name": "Python 3",
   "language": "python",
   "name": "python3"
  },
  "language_info": {
   "codemirror_mode": {
    "name": "ipython",
    "version": 3
   },
   "file_extension": ".py",
   "mimetype": "text/x-python",
   "name": "python",
   "nbconvert_exporter": "python",
   "pygments_lexer": "ipython3",
   "version": "3.6.5"
  }
 },
 "nbformat": 4,
 "nbformat_minor": 2
}
